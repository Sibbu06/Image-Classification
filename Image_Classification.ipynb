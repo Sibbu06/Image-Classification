{
 "cells": [
  {
   "cell_type": "code",
   "execution_count": 1,
   "id": "f6b01a00-5f18-43a7-b9a4-16abe5be721a",
   "metadata": {},
   "outputs": [],
   "source": [
    "import numpy as np\n",
    "import tensorflow as tf\n",
    "from tensorboard.plugins.hparams import api as hp"
   ]
  },
  {
   "cell_type": "markdown",
   "id": "4951b8dd-ca2a-40fa-884f-3464d9413d3c",
   "metadata": {},
   "source": [
    "### Importing the data"
   ]
  },
  {
   "cell_type": "code",
   "execution_count": 3,
   "id": "06b3e3ed-d9e8-43d0-9f7d-a840fa857af9",
   "metadata": {},
   "outputs": [],
   "source": [
    "data_train = np.load(r\"C:\\Users\\Shubham\\Desktop\\Projects\\365 Data Science\\Machine learning\\CNN\\Full Dataset\\Primary categories - Train.npz\")\n",
    "data_test = np.load(r\"C:\\Users\\Shubham\\Desktop\\Projects\\365 Data Science\\Machine learning\\CNN\\Full Dataset\\Primary categories - Test.npz\")\n",
    "data_val = np.load(r\"C:\\Users\\Shubham\\Desktop\\Projects\\365 Data Science\\Machine learning\\CNN\\Full Dataset\\Primary categories - Validation.npz\")"
   ]
  },
  {
   "cell_type": "code",
   "execution_count": 4,
   "id": "11296dfe-5bf5-46c6-89b4-26fab5c8da5c",
   "metadata": {},
   "outputs": [],
   "source": [
    "images_train = data_train[\"images\"]\n",
    "labels_train = data_train[\"labels\"]\n",
    "\n",
    "images_val = data_val[\"images\"]\n",
    "labels_val = data_val[\"labels\"]\n",
    "\n",
    "images_test = data_test[\"images\"]\n",
    "labels_test = data_test[\"labels\"]"
   ]
  },
  {
   "cell_type": "markdown",
   "id": "e436b8cf-7e3d-4db9-8ad2-abb2fc335735",
   "metadata": {},
   "source": [
    "### Scaling the images"
   ]
  },
  {
   "cell_type": "code",
   "execution_count": 6,
   "id": "5db0d250-626c-4fad-8236-d930b45491ec",
   "metadata": {},
   "outputs": [],
   "source": [
    "# scaling the pixels between 0 and 1\n",
    "images_train = images_train/255.0\n",
    "images_val = images_val/255.0\n",
    "images_test = images_test/255.0"
   ]
  },
  {
   "cell_type": "markdown",
   "id": "abf9c4f7-855f-49ab-b84c-0cba231a0984",
   "metadata": {},
   "source": [
    "### Model outline and Hyperparameter tuning"
   ]
  },
  {
   "cell_type": "code",
   "execution_count": 8,
   "id": "187ed1d7-b790-48e0-9608-e1d6986ac3b2",
   "metadata": {},
   "outputs": [],
   "source": [
    "BATCH_SIZE = 64\n",
    "EPOCHS = 15"
   ]
  },
  {
   "cell_type": "code",
   "execution_count": 9,
   "id": "0b7bde5e-e300-4db6-903a-05132d6bdb4b",
   "metadata": {},
   "outputs": [],
   "source": [
    "HP_FILTER_SIZE = hp.HParam(\"filter_size\", hp.Discrete([3,5,7]))\n",
    "HP_FILTER_NUM = hp.HParam(\"filter_num\", hp.Discrete([64,96,128]))\n",
    "\n",
    "METRIC_ACCURACY = \"accuracy\"\n",
    "\n",
    "with tf.summary.create_file_writer(r\"logs/Model 1/hparam_tuning\").as_default():\n",
    "    hp.hparams_config(\n",
    "        hparams = [HP_FILTER_SIZE, HP_FILTER_NUM],\n",
    "        metrics = [hp.Metric(METRIC_ACCURACY, display_name=\"accuracy\")]\n",
    "    )\n",
    "    "
   ]
  },
  {
   "cell_type": "code",
   "execution_count": 10,
   "id": "3151561e-848d-4ea8-9988-e48944235e3b",
   "metadata": {},
   "outputs": [],
   "source": [
    "def train_test_model(hparams,session_num):\n",
    "\n",
    "    model = tf.keras.Sequential([\n",
    "        tf.keras.layers.Conv2D(hparams[HP_FILTER_NUM], hparams[HP_FILTER_NUM], activation=\"relu\", input_shape = (120,90,3)),\n",
    "        tf.keras.layers.MaxPooling2D(pool_size=(2,2)),\n",
    "        tf.keras.layers.Conv2D(hparams[HP_FILTER_NUM], hparams[HP_FILTER_SIZE], activation=\"relu\"),\n",
    "        tf.keras.layers.MaxPooling2D(pool_size=(2,2)),\n",
    "        tf.keras.layers.Flatten(),\n",
    "        tf.keras.layers.Dense(3)\n",
    "    ])\n",
    "\n",
    "    loss_fn = tf.keras.losses.SparseCategoricalCrossentropy(from_logits=True)\n",
    "\n",
    "    model.compile(optimizer = \"adam\", loss = loss_fn, metrics = [\"accuracy\"])\n",
    "    log_dir = \"logs\\\\Model 1\\\\fit\\\\\" + \"run{}\".format(session_num)\n",
    "\n",
    "    tensorboard_callback = tf.keras.callbacks.TensorBoard(log_dir = log_dir, histogram_freq = 1, profile_batch= True)\n",
    "    early_stopping = tf.keras.callbacks.EarlyStopping(monitor=\"val_loss\",\n",
    "                                                     mode= \"auto\", min_delta = 0, patience =2, verbose = 0, restore_best_weights = True)\n",
    "\n",
    "    model.fit(images_train, labels_train,\n",
    "             epochs = EPOCHS, batch_size = BATCH_SIZE, callbacks = [tensorboard_callback, early_stopping], \n",
    "              validation_data = (images_val, labels_val), verbose = 2)\n",
    "    _, accuracy = model.evaluate(images_val, labels_val)\n",
    "\n",
    "    #model.save(r\"saved_models/Model 1/run-{}\".format(session_num))\n",
    "    return accuracy\n",
    "    "
   ]
  },
  {
   "cell_type": "code",
   "execution_count": 14,
   "id": "efb9a256-6e76-457b-a701-5cee1d8d2a44",
   "metadata": {},
   "outputs": [],
   "source": [
    "### Run function to log the hparams summary and accuracy\n",
    "def run(log_dir, hparams, session_num):\n",
    "    with tf.summary.create_file_writer(log_dir).as_default():\n",
    "        hp.hparams(hparams) # record the values used in the trial\n",
    "        accuracy = train_test_model(hparams, session_num)\n",
    "        tf.summary.scalar(METRIC_ACCURACY, accuracy, step =1)\n",
    "    \n",
    "    "
   ]
  },
  {
   "cell_type": "code",
   "execution_count": null,
   "id": "a9ab1ed7-862e-4993-84ec-10623c4aa418",
   "metadata": {},
   "outputs": [],
   "source": [
    "session_num = 0 \n",
    "\n",
    "for filter_size in HP_FILTER_SIZE.domain.values:\n",
    "    for filter_num in HP_FILTER_NUM.domain.values:\n",
    "\n",
    "        hparams = {HP_FILTER_SIZE : filter_size,\n",
    "                  HP_FILTER_NUM : filter_num}\n",
    "        run_name = \"run-%d\" % session_num\n",
    "        print(\"--- Starting trial :%s\" % run_name)\n",
    "        print({h.name : hparams[h] for h in hparams})\n",
    "        run(\"logs/Model 1/hparam_tuning/\" + run_name, hparams, session_num)\n",
    "        session_num += 1\n",
    "\n",
    "    "
   ]
  },
  {
   "cell_type": "markdown",
   "id": "c2368685-3335-4d0f-a963-e9a3aed57d86",
   "metadata": {},
   "source": [
    "### Visualizing the tensorboard"
   ]
  },
  {
   "cell_type": "code",
   "execution_count": null,
   "id": "d94ca292-bf02-4df1-8855-1840e90467e5",
   "metadata": {},
   "outputs": [],
   "source": [
    "%load_ext tensorboard\n",
    "%tensorboard --log_dir \"logs/Model 1/hparams_tuning\""
   ]
  },
  {
   "cell_type": "code",
   "execution_count": null,
   "id": "f7fc8162-2aa0-4761-9cab-0183bf3f30e9",
   "metadata": {},
   "outputs": [],
   "source": [
    "%load_ext tensorboard\n",
    "%tensorboard --log_dir \"logs/Model 1/fit\""
   ]
  }
 ],
 "metadata": {
  "kernelspec": {
   "display_name": "Python 3 (ipykernel)",
   "language": "python",
   "name": "python3"
  },
  "language_info": {
   "codemirror_mode": {
    "name": "ipython",
    "version": 3
   },
   "file_extension": ".py",
   "mimetype": "text/x-python",
   "name": "python",
   "nbconvert_exporter": "python",
   "pygments_lexer": "ipython3",
   "version": "3.12.4"
  }
 },
 "nbformat": 4,
 "nbformat_minor": 5
}
